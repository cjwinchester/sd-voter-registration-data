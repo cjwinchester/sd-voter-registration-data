{
 "cells": [
  {
   "cell_type": "markdown",
   "id": "6507088a-306a-47d1-97f7-57f3d07ad247",
   "metadata": {},
   "source": [
    "# Parse SD monthly voter registration report\n",
    "\n",
    "Uses:\n",
    "- `requests` to get the PDF from [the Secretary of State's website](https://sdsos.gov/elections-voting/upcoming-elections/voter-registration-totals/voter-registration-by-county.aspx)\n",
    "- `pdfplumber` to parse and validate the data"
   ]
  },
  {
   "cell_type": "code",
   "execution_count": 3,
   "id": "b2b53d3d-b352-40e3-9e9f-b8af14d72735",
   "metadata": {},
   "outputs": [],
   "source": [
    "from io import BytesIO\n",
    "from datetime import datetime\n",
    "import csv\n",
    "\n",
    "import requests\n",
    "import pdfplumber"
   ]
  },
  {
   "cell_type": "code",
   "execution_count": 4,
   "id": "3c20d214-6797-4301-bdc4-037cff26fb60",
   "metadata": {},
   "outputs": [],
   "source": [
    "url = 'https://sdsos.gov/elections-voting/assets/StatewideVoterRegistrationTotals/StatewideVotersByCounty_9.3.2024.pdf'\n",
    "req = requests.get(url)"
   ]
  },
  {
   "cell_type": "code",
   "execution_count": 5,
   "id": "be80d888-da26-44bb-baa4-226bfc0314d1",
   "metadata": {},
   "outputs": [],
   "source": [
    "pdf = pdfplumber.open(BytesIO(req.content))"
   ]
  },
  {
   "cell_type": "code",
   "execution_count": 6,
   "id": "75b29825-8e5d-4a99-9bc4-5d5eb05a678b",
   "metadata": {},
   "outputs": [],
   "source": [
    "# assumes a 2-page PDF with a table spanning both pages\n",
    "if len(pdf.pages) != 2:\n",
    "    raise Exception(f'Report page count is {len(pdf.pages)}, not 2 -- check it out: {url}')"
   ]
  },
  {
   "cell_type": "code",
   "execution_count": 7,
   "id": "00eae6d5-a16b-4d97-94aa-1a6d632b2eb7",
   "metadata": {},
   "outputs": [],
   "source": [
    "lines = pdf.pages[0].extract_table() + pdf.pages[1].extract_table()\n",
    "\n",
    "# guarding against some PDFs parsed with an extra column\n",
    "lines = [x[:-1] if not x[-1] else x for x in lines]"
   ]
  },
  {
   "cell_type": "code",
   "execution_count": 8,
   "id": "fcabf216-1de9-4626-8ce4-395e59da2bc7",
   "metadata": {
    "scrolled": true
   },
   "outputs": [
    {
     "data": {
      "text/plain": [
       "[['Statewide Report by County - September 3, 2024',\n",
       "  None,\n",
       "  None,\n",
       "  None,\n",
       "  None,\n",
       "  None,\n",
       "  None,\n",
       "  None,\n",
       "  None],\n",
       " ['County',\n",
       "  'Democratic',\n",
       "  'Libertarian',\n",
       "  'Republican',\n",
       "  'Independent',\n",
       "  'OTH',\n",
       "  'No Party\\nAffiliation',\n",
       "  'No Labels',\n",
       "  'Inactive',\n",
       "  'Total Active'],\n",
       " ['Aurora', '522', '2', '969', '223', '2', '94', '', '110', '1812'],\n",
       " ['Beadle',\n",
       "  '2,506',\n",
       "  '26',\n",
       "  '4,969',\n",
       "  '1,380',\n",
       "  '41',\n",
       "  '1,085',\n",
       "  '1',\n",
       "  '803',\n",
       "  '10008'],\n",
       " ['Bennett', '684', '6', '704', '204', '2', '193', '', '198', '1793'],\n",
       " ['Bon Homme', '893', '13', '2,340', '478', '', '215', '', '298', '3939'],\n",
       " ['Brookings',\n",
       "  '4,992',\n",
       "  '101',\n",
       "  '9,649',\n",
       "  '3,579',\n",
       "  '21',\n",
       "  '2,662',\n",
       "  '',\n",
       "  '1616',\n",
       "  '21004'],\n",
       " ['Brown',\n",
       "  '7,277',\n",
       "  '95',\n",
       "  '12,649',\n",
       "  '3,564',\n",
       "  '11',\n",
       "  '1,834',\n",
       "  '1',\n",
       "  '1145',\n",
       "  '25431'],\n",
       " ['Brule', '903', '14', '1,714', '457', '4', '203', '', '175', '3295'],\n",
       " ['Buffalo', '525', '2', '148', '65', '3', '80', '', '130', '823'],\n",
       " ['Butte', '779', '56', '4,499', '882', '20', '602', '', '1380', '6838'],\n",
       " ['Campbell', '101', '1', '916', '77', '', '39', '', '76', '1134'],\n",
       " ['Charles Mix', '1,729', '9', '2,685', '567', '', '338', '', '469', '5328'],\n",
       " ['Clark', '545', '4', '1,620', '262', '1', '152', '', '144', '2584'],\n",
       " ['Clay', '2,838', '37', '2,926', '1,381', '10', '1,071', '2', '1244', '8265'],\n",
       " ['Codington',\n",
       "  '3,849',\n",
       "  '61',\n",
       "  '10,184',\n",
       "  '2,574',\n",
       "  '26',\n",
       "  '1,753',\n",
       "  '',\n",
       "  '1665',\n",
       "  '18447'],\n",
       " ['Corson', '964', '5', '729', '272', '2', '267', '', '236', '2239'],\n",
       " ['Custer', '1,059', '36', '5,026', '1,100', '22', '610', '', '1001', '7853'],\n",
       " ['Davison',\n",
       "  '2,756',\n",
       "  '28',\n",
       "  '6,715',\n",
       "  '1,876',\n",
       "  '37',\n",
       "  '1,426',\n",
       "  '3',\n",
       "  '1313',\n",
       "  '12841'],\n",
       " ['Day', '1,270', '11', '1,872', '581', '', '151', '', '231', '3885'],\n",
       " ['Deuel', '600', '10', '1,718', '487', '', '260', '', '129', '3075'],\n",
       " ['Dewey', '1,754', '3', '756', '408', '', '354', '', '250', '3275'],\n",
       " ['Douglas', '203', '', '1,646', '141', '', '90', '', '119', '2080'],\n",
       " ['Edmunds', '523', '7', '1,745', '255', '1', '163', '', '144', '2694'],\n",
       " ['Fall River', '894', '41', '3,877', '902', '1', '608', '1', '414', '6324'],\n",
       " ['Faulk', '198', '1', '1,113', '212', '', '32', '', '62', '1556'],\n",
       " ['Grant', '1,066', '17', '2,660', '698', '11', '325', '', '352', '4777'],\n",
       " ['Gregory', '634', '4', '1,800', '329', '', '77', '', '157', '2844'],\n",
       " ['Haakon', '121', '2', '1,159', '87', '2', '28', '', '64', '1399'],\n",
       " ['Hamlin', '542', '8', '3,014', '368', '', '239', '', '227', '4171'],\n",
       " ['Hand', '409', '7', '1,642', '184', '4', '49', '', '99', '2295'],\n",
       " ['Hanson', '606', '6', '1,835', '493', '6', '353', '', '493', '3299'],\n",
       " ['Harding', '64', '6', '831', '73', '', '41', '', '53', '1015'],\n",
       " ['Hughes', '2,113', '45', '7,270', '1,386', '17', '860', '', '1067', '11691'],\n",
       " ['Hutchinson', '714', '14', '3,408', '521', '8', '318', '', '223', '4983'],\n",
       " ['Hyde', '149', '1', '649', '94', '', '24', '', '44', '917'],\n",
       " ['Jackson', '581', '8', '904', '166', '1', '159', '', '135', '1819'],\n",
       " ['Jerauld', '340', '5', '696', '131', '1', '64', '', '70', '1237'],\n",
       " ['Jones', '60', '1', '519', '60', '', '27', '1', '54', '668'],\n",
       " ['Kingsbury', '685', '9', '2,301', '395', '2', '302', '', '296', '3694'],\n",
       " ['Lake', '1,896', '25', '4,245', '940', '4', '567', '1', '2155', '7678'],\n",
       " ['Lawrence',\n",
       "  '3,859',\n",
       "  '170',\n",
       "  '11,920',\n",
       "  '3,187',\n",
       "  '45',\n",
       "  '2,443',\n",
       "  '4',\n",
       "  '2432',\n",
       "  '21628'],\n",
       " ['Lincoln',\n",
       "  '9,949',\n",
       "  '230',\n",
       "  '24,567',\n",
       "  '7,619',\n",
       "  '79',\n",
       "  '4,929',\n",
       "  '3',\n",
       "  '5125',\n",
       "  '47376'],\n",
       " ['Lyman', '658', '5', '1,150', '218', '1', '149', '', '110', '2181'],\n",
       " ['Marshall', '962', '2', '1,275', '376', '2', '167', '', '172', '2784'],\n",
       " ['McCook', '799', '8', '2,316', '517', '3', '269', '', '152', '3912'],\n",
       " ['McPherson', '191', '8', '1,311', '131', '', '65', '', '178', '1706'],\n",
       " ['Meade',\n",
       "  '2,783',\n",
       "  '157',\n",
       "  '12,506',\n",
       "  '2,792',\n",
       "  '19',\n",
       "  '1,973',\n",
       "  '',\n",
       "  '1679',\n",
       "  '20230'],\n",
       " ['Mellette', '401', '3', '500', '181', '', '57', '', '65', '1142'],\n",
       " ['Miner', '429', '3', '828', '228', '', '102', '', '83', '1590'],\n",
       " ['Minnehaha',\n",
       "  '35,451',\n",
       "  '718',\n",
       "  '57,212',\n",
       "  '22,206',\n",
       "  '256',\n",
       "  '17,580',\n",
       "  '5',\n",
       "  '18193',\n",
       "  '133428'],\n",
       " ['Moody', '1,306', '15', '1,883', '687', '4', '390', '1', '214', '4286'],\n",
       " ['Oglala Lakota',\n",
       "  '5,178',\n",
       "  '19',\n",
       "  '583',\n",
       "  '988',\n",
       "  '1',\n",
       "  '1,185',\n",
       "  '',\n",
       "  '660',\n",
       "  '7954'],\n",
       " ['Pennington',\n",
       "  '17,599',\n",
       "  '665',\n",
       "  '45,517',\n",
       "  '12,896',\n",
       "  '210',\n",
       "  '11,493',\n",
       "  '5',\n",
       "  '10122',\n",
       "  '88385'],\n",
       " ['Perkins', '261', '4', '1,544', '195', '4', '155', '', '180', '2163'],\n",
       " ['Potter', '183', '1', '1,343', '108', '6', '38', '1', '150', '1680'],\n",
       " ['Roberts', '2,362', '10', '2,195', '927', '20', '566', '', '510', '6080'],\n",
       " ['Sanborn', '351', '7', '957', '156', '', '126', '1', '65', '1598'],\n",
       " ['Spink', '998', '11', '2,524', '442', '2', '200', '', '214', '4177'],\n",
       " ['Stanley', '331', '7', '1,539', '189', '', '100', '', '205', '2166'],\n",
       " ['Sully', '162', '5', '819', '110', '', '38', '', '68', '1134'],\n",
       " ['Todd', '2,677', '7', '665', '572', '6', '529', '', '784', '4456'],\n",
       " ['Tripp', '575', '8', '2,418', '349', '7', '212', '', '400', '3569'],\n",
       " ['Turner', '1,125', '15', '3,579', '898', '', '339', '', '251', '5956'],\n",
       " ['Union',\n",
       "  '2,297',\n",
       "  '44',\n",
       "  '6,440',\n",
       "  '2,189',\n",
       "  '8',\n",
       "  '1,418',\n",
       "  '1',\n",
       "  '2225',\n",
       "  '12397'],\n",
       " ['Walworth', '580', '7', '2,426', '335', '11', '234', '', '480', '3593'],\n",
       " ['Yankton',\n",
       "  '3,461',\n",
       "  '61',\n",
       "  '7,323',\n",
       "  '2,522',\n",
       "  '14',\n",
       "  '1,243',\n",
       "  '',\n",
       "  '1615',\n",
       "  '14624'],\n",
       " ['Ziebach', '751', '5', '427', '169', '', '232', '', '95', '1584'],\n",
       " ['Total',\n",
       "  '144,023',\n",
       "  '2,922',\n",
       "  '309,869',\n",
       "  '89,039',\n",
       "  '958',\n",
       "  '63,947',\n",
       "  '31',\n",
       "  '65,268',\n",
       "  '610,789'],\n",
       " [\"Independent (IND) / No Party Affiliation (NPA) – South Dakota does not have an Independent Party. If a person completes a registration card to change that person's name,\\naddress, phone number, or email address, and leaves the field for party affiliation blank, the county auditor must list the person's party affiliation as the most recent party affiliation\\nregistered for that person. If a person completes a registration card to register to vote for the first time in the state and leaves the field for party affiliation blank, the county auditor must\\nregister that person's party affiliation as no party affiliation.\",\n",
       "  None,\n",
       "  None,\n",
       "  None,\n",
       "  None,\n",
       "  None,\n",
       "  None,\n",
       "  None,\n",
       "  None],\n",
       " ['SDCL 12-1-3 (22) and SDCL 12-4-5',\n",
       "  None,\n",
       "  None,\n",
       "  None,\n",
       "  None,\n",
       "  None,\n",
       "  None,\n",
       "  None,\n",
       "  None],\n",
       " ['OTHER – This category is for voters who write any other political party on their voter registration form that is not currently a recognized political party in South Dakota.',\n",
       "  None,\n",
       "  None,\n",
       "  None,\n",
       "  None,\n",
       "  None,\n",
       "  None,\n",
       "  None,\n",
       "  None],\n",
       " ['NOTE - The South Dakota Democratic Party has opened their primary election up for all voters registered as independent/no party affiliation to vote in their primary. Voters registered\\nin the “other” category are not allowed to vote in the SD Democratic Party primary.',\n",
       "  None,\n",
       "  None,\n",
       "  None,\n",
       "  None,\n",
       "  None,\n",
       "  None,\n",
       "  None,\n",
       "  None],\n",
       " ['The Libertarian Party became a recognized party on June 17, 2016.',\n",
       "  None,\n",
       "  None,\n",
       "  None,\n",
       "  None,\n",
       "  None,\n",
       "  None,\n",
       "  None,\n",
       "  None],\n",
       " ['The Constitution Party became a recognized party on March 31, 2016. By statutes SDCL 12-5-1.5 and 12-1-3, the Constitution Party lost party status on November 14, 2018. The No\\nLabels Party became a recognized party on August 4, 2023.',\n",
       "  None,\n",
       "  None,\n",
       "  None,\n",
       "  None,\n",
       "  None,\n",
       "  None,\n",
       "  None,\n",
       "  None]]"
      ]
     },
     "execution_count": 8,
     "metadata": {},
     "output_type": "execute_result"
    }
   ],
   "source": [
    "lines"
   ]
  },
  {
   "cell_type": "code",
   "execution_count": 9,
   "id": "e6cd53a9-2f58-402a-9b1a-5e5c9b3046dd",
   "metadata": {},
   "outputs": [],
   "source": [
    "# report date is in the first line\n",
    "report_date = lines.pop(0)"
   ]
  },
  {
   "cell_type": "code",
   "execution_count": 10,
   "id": "9b5d3f66-568d-4d26-a0f4-d8600ae0af9e",
   "metadata": {},
   "outputs": [
    {
     "name": "stdout",
     "output_type": "stream",
     "text": [
      "2024-09-03\n"
     ]
    }
   ],
   "source": [
    "report_date = report_date[0].split('-')[-1].strip()\n",
    "report_date = datetime.strptime(report_date, '%B %d, %Y').date().isoformat()\n",
    "\n",
    "print(report_date)"
   ]
  },
  {
   "cell_type": "code",
   "execution_count": 11,
   "id": "2e5d21b2-be5d-4d9e-998c-d01c4df2af11",
   "metadata": {},
   "outputs": [],
   "source": [
    "# standardizing column names\n",
    "column_fixes = {\n",
    "    'oth': 'other',\n",
    "    'no party\\naffiliation': 'npa',\n",
    "    'no labels': 'no_labels',\n",
    "    'npa/ind': 'npa_ind'\n",
    "}"
   ]
  },
  {
   "cell_type": "code",
   "execution_count": 12,
   "id": "2be7ac8a-fe25-403d-a49b-9bd91ff4639b",
   "metadata": {},
   "outputs": [],
   "source": [
    "# headers are in the first line of the data table\n",
    "headers = lines.pop(0)\n",
    "headers = [column_fixes.get(x.lower(), x.lower()) for x in headers]"
   ]
  },
  {
   "cell_type": "code",
   "execution_count": 13,
   "id": "b8f74e2e-38b0-46d3-9de5-fa9d344a43d7",
   "metadata": {},
   "outputs": [
    {
     "data": {
      "text/plain": [
       "['county',\n",
       " 'democratic',\n",
       " 'libertarian',\n",
       " 'republican',\n",
       " 'independent',\n",
       " 'other',\n",
       " 'npa',\n",
       " 'no_labels',\n",
       " 'inactive',\n",
       " 'total active']"
      ]
     },
     "execution_count": 13,
     "metadata": {},
     "output_type": "execute_result"
    }
   ],
   "source": [
    "headers"
   ]
  },
  {
   "cell_type": "code",
   "execution_count": 14,
   "id": "87b4e954-d9ec-49b8-b6e3-fc53040bce60",
   "metadata": {
    "scrolled": true
   },
   "outputs": [],
   "source": [
    "data = []\n",
    "\n",
    "# loop over the remaining lines\n",
    "for line in lines:\n",
    "\n",
    "    first_cell = line[0].lower()\n",
    "\n",
    "    # skip lines if repeated headers\n",
    "    if 'statewide' in first_cell or 'county' in first_cell:\n",
    "        continue\n",
    "\n",
    "    # the 'Total' line in the table means we're done\n",
    "    if 'total' in first_cell:\n",
    "        break\n",
    "\n",
    "    # check that the number of values matches the number of headers\n",
    "    assert(len(line) == len(headers))\n",
    "\n",
    "    # zip it up into a dict\n",
    "    county_data = dict(zip(headers, line))\n",
    "\n",
    "    # delete the aggregate value totaling everything up\n",
    "    del county_data['total active']\n",
    "\n",
    "    # cast number strings to integers\n",
    "    for key in county_data:\n",
    "        if key == 'county' or not county_data[key]:\n",
    "            continue\n",
    "\n",
    "        county_data[key] = int(county_data[key].replace(',', ''))\n",
    "\n",
    "    # add the report date\n",
    "    county_data['date'] = report_date\n",
    "    data.append(county_data)"
   ]
  },
  {
   "cell_type": "code",
   "execution_count": 15,
   "id": "6571d1b4-ba88-4b3b-9fce-0f9cdd6721d1",
   "metadata": {},
   "outputs": [],
   "source": [
    "# doublecheck: 66 counties in SD\n",
    "assert(len(data) == 66)"
   ]
  },
  {
   "cell_type": "code",
   "execution_count": 16,
   "id": "25fe47d7-bd47-46f5-b4bf-b2972e761421",
   "metadata": {},
   "outputs": [
    {
     "data": {
      "text/plain": [
       "{'county': 'Aurora',\n",
       " 'democratic': 522,\n",
       " 'libertarian': 2,\n",
       " 'republican': 969,\n",
       " 'independent': 223,\n",
       " 'other': 2,\n",
       " 'npa': 94,\n",
       " 'no_labels': '',\n",
       " 'inactive': 110,\n",
       " 'date': '2024-09-03'}"
      ]
     },
     "execution_count": 16,
     "metadata": {},
     "output_type": "execute_result"
    }
   ],
   "source": [
    "data[0]"
   ]
  },
  {
   "cell_type": "code",
   "execution_count": 17,
   "id": "1cb251c3-ef9f-4898-9bc7-02b3230b52b9",
   "metadata": {},
   "outputs": [],
   "source": [
    "# shift 'date' to the beginning of headers list for the output CSV\n",
    "csv_headers = list(data[0].keys())\n",
    "csv_headers = csv_headers[-1:] + csv_headers[:-1]"
   ]
  },
  {
   "cell_type": "code",
   "execution_count": 18,
   "id": "1ddeeb67-a213-45bc-bffe-10b25ebad375",
   "metadata": {},
   "outputs": [
    {
     "name": "stdout",
     "output_type": "stream",
     "text": [
      "Wrote file: data/2024-09-03.csv\n"
     ]
    }
   ],
   "source": [
    "# write to file\n",
    "filepath = f'data/{report_date}.csv'\n",
    "\n",
    "with open(filepath, 'w') as outfile:\n",
    "    writer = csv.DictWriter(\n",
    "        outfile,\n",
    "        fieldnames=csv_headers\n",
    "    )\n",
    "\n",
    "    writer.writeheader()\n",
    "    writer.writerows(data)\n",
    "\n",
    "    print(f'Wrote file: {filepath}')"
   ]
  },
  {
   "cell_type": "code",
   "execution_count": null,
   "id": "d7b2a96f-de03-4cb9-b420-620aea8e3f46",
   "metadata": {},
   "outputs": [],
   "source": []
  }
 ],
 "metadata": {
  "kernelspec": {
   "display_name": "Python 3 (ipykernel)",
   "language": "python",
   "name": "python3"
  },
  "language_info": {
   "codemirror_mode": {
    "name": "ipython",
    "version": 3
   },
   "file_extension": ".py",
   "mimetype": "text/x-python",
   "name": "python",
   "nbconvert_exporter": "python",
   "pygments_lexer": "ipython3",
   "version": "3.12.5"
  }
 },
 "nbformat": 4,
 "nbformat_minor": 5
}
