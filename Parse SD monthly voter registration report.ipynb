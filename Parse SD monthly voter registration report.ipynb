{
 "cells": [
  {
   "cell_type": "markdown",
   "id": "6507088a-306a-47d1-97f7-57f3d07ad247",
   "metadata": {},
   "source": [
    "# Parse SD monthly voter registration report\n",
    "\n",
    "Uses:\n",
    "- `requests` to get the PDF from [the Secretary of State's website](https://sdsos.gov/elections-voting/upcoming-elections/voter-registration-totals/voter-registration-by-county.aspx)\n",
    "- `pdfplumber` to parse and validate the data"
   ]
  },
  {
   "cell_type": "code",
   "execution_count": 517,
   "id": "b2b53d3d-b352-40e3-9e9f-b8af14d72735",
   "metadata": {},
   "outputs": [],
   "source": [
    "from io import BytesIO\n",
    "from datetime import datetime\n",
    "import csv\n",
    "\n",
    "import requests\n",
    "import pdfplumber"
   ]
  },
  {
   "cell_type": "code",
   "execution_count": 911,
   "id": "3c20d214-6797-4301-bdc4-037cff26fb60",
   "metadata": {},
   "outputs": [],
   "source": [
    "url = 'https://sdsos.gov/elections-voting/assets/StatewideVotersByCounty_11.1.2019.pdf'\n",
    "req = requests.get(url)"
   ]
  },
  {
   "cell_type": "code",
   "execution_count": 912,
   "id": "be80d888-da26-44bb-baa4-226bfc0314d1",
   "metadata": {},
   "outputs": [],
   "source": [
    "pdf = pdfplumber.open(BytesIO(req.content))"
   ]
  },
  {
   "cell_type": "code",
   "execution_count": 913,
   "id": "75b29825-8e5d-4a99-9bc4-5d5eb05a678b",
   "metadata": {},
   "outputs": [],
   "source": [
    "# assumes a 2-page PDF with a table spanning both pages\n",
    "if len(pdf.pages) != 2:\n",
    "    raise Exception(f'Report page count is {len(pdf.pages)}, not 2 -- check it out: {url}')"
   ]
  },
  {
   "cell_type": "code",
   "execution_count": 914,
   "id": "00eae6d5-a16b-4d97-94aa-1a6d632b2eb7",
   "metadata": {},
   "outputs": [],
   "source": [
    "lines = pdf.pages[0].extract_table() + pdf.pages[1].extract_table()\n",
    "\n",
    "# guarding against some PDFs parsed with an extra column\n",
    "lines = [x[:-1] if not x[-1] else x for x in lines]"
   ]
  },
  {
   "cell_type": "code",
   "execution_count": 915,
   "id": "e6cd53a9-2f58-402a-9b1a-5e5c9b3046dd",
   "metadata": {},
   "outputs": [],
   "source": [
    "# report date is in the first line\n",
    "report_date = lines.pop(0)"
   ]
  },
  {
   "cell_type": "code",
   "execution_count": 916,
   "id": "9b5d3f66-568d-4d26-a0f4-d8600ae0af9e",
   "metadata": {},
   "outputs": [
    {
     "name": "stdout",
     "output_type": "stream",
     "text": [
      "2019-11-01\n"
     ]
    }
   ],
   "source": [
    "report_date = report_date[0].split('-')[-1].strip()\n",
    "report_date = datetime.strptime(report_date, '%B %d, %Y').date().isoformat()\n",
    "\n",
    "print(report_date)"
   ]
  },
  {
   "cell_type": "code",
   "execution_count": 917,
   "id": "2e5d21b2-be5d-4d9e-998c-d01c4df2af11",
   "metadata": {},
   "outputs": [],
   "source": [
    "# standardizing column names\n",
    "column_fixes = {\n",
    "    'oth': 'other',\n",
    "    'no party\\naffiliation': 'npa',\n",
    "    'no labels': 'no_labels',\n",
    "    'npa/ind': 'npa_ind'\n",
    "}"
   ]
  },
  {
   "cell_type": "code",
   "execution_count": 918,
   "id": "2be7ac8a-fe25-403d-a49b-9bd91ff4639b",
   "metadata": {},
   "outputs": [],
   "source": [
    "# headers are in the first line of the data table\n",
    "headers = lines.pop(0)\n",
    "headers = [column_fixes.get(x.lower(), x.lower()) for x in headers]"
   ]
  },
  {
   "cell_type": "code",
   "execution_count": 919,
   "id": "b8f74e2e-38b0-46d3-9de5-fa9d344a43d7",
   "metadata": {},
   "outputs": [
    {
     "data": {
      "text/plain": [
       "['county',\n",
       " 'libertarian',\n",
       " 'republican',\n",
       " 'democratic',\n",
       " 'npa_ind',\n",
       " 'other',\n",
       " 'inactive',\n",
       " 'total active']"
      ]
     },
     "execution_count": 919,
     "metadata": {},
     "output_type": "execute_result"
    }
   ],
   "source": [
    "headers"
   ]
  },
  {
   "cell_type": "code",
   "execution_count": 920,
   "id": "87b4e954-d9ec-49b8-b6e3-fc53040bce60",
   "metadata": {
    "scrolled": true
   },
   "outputs": [],
   "source": [
    "data = []\n",
    "\n",
    "# loop over the remaining lines\n",
    "for line in lines:\n",
    "\n",
    "    # skip lines if repeated headers\n",
    "    if 'statewide' in line[0].lower() or 'county' in line[0].lower():\n",
    "        continue\n",
    "\n",
    "    # the 'Total' line in the table means we're done\n",
    "    if 'total' in line[0].lower():\n",
    "        break\n",
    "\n",
    "    # check that the number of values matches the number of headers\n",
    "    assert(len(line) == len(headers))\n",
    "\n",
    "    # zip it up into a dict\n",
    "    county_data = dict(zip(headers, line))\n",
    "\n",
    "    # delete the aggregate value totaling everything up\n",
    "    del county_data['total active']\n",
    "\n",
    "    # turn the numbers into integers\n",
    "    for key in county_data:\n",
    "        if key == 'county' or not county_data[key]:\n",
    "            continue\n",
    "\n",
    "        county_data[key] = int(county_data[key].replace(',', ''))\n",
    "\n",
    "    # add the report date\n",
    "    county_data['date'] = report_date\n",
    "    data.append(county_data)"
   ]
  },
  {
   "cell_type": "code",
   "execution_count": 921,
   "id": "6571d1b4-ba88-4b3b-9fce-0f9cdd6721d1",
   "metadata": {},
   "outputs": [],
   "source": [
    "# doublecheck: 66 counties in SD\n",
    "assert(len(data) == 66)"
   ]
  },
  {
   "cell_type": "code",
   "execution_count": 922,
   "id": "25fe47d7-bd47-46f5-b4bf-b2972e761421",
   "metadata": {},
   "outputs": [
    {
     "data": {
      "text/plain": [
       "{'county': 'Aurora',\n",
       " 'libertarian': 1,\n",
       " 'republican': 804,\n",
       " 'democratic': 705,\n",
       " 'npa_ind': 268,\n",
       " 'other': 2,\n",
       " 'inactive': 106,\n",
       " 'date': '2019-11-01'}"
      ]
     },
     "execution_count": 922,
     "metadata": {},
     "output_type": "execute_result"
    }
   ],
   "source": [
    "data[0]"
   ]
  },
  {
   "cell_type": "code",
   "execution_count": 923,
   "id": "1cb251c3-ef9f-4898-9bc7-02b3230b52b9",
   "metadata": {},
   "outputs": [],
   "source": [
    "# shift 'date' to the beginning of headers list for the output CSV\n",
    "csv_headers = list(data[0].keys())\n",
    "csv_headers = csv_headers[-1:] + csv_headers[:-1]"
   ]
  },
  {
   "cell_type": "code",
   "execution_count": 924,
   "id": "1ddeeb67-a213-45bc-bffe-10b25ebad375",
   "metadata": {},
   "outputs": [
    {
     "name": "stdout",
     "output_type": "stream",
     "text": [
      "Wrote file: data/2019-11-01.csv\n"
     ]
    }
   ],
   "source": [
    "# write to file\n",
    "filepath = f'data/{report_date}.csv'\n",
    "\n",
    "with open(filepath, 'w') as outfile:\n",
    "    writer = csv.DictWriter(\n",
    "        outfile,\n",
    "        fieldnames=csv_headers\n",
    "    )\n",
    "\n",
    "    writer.writeheader()\n",
    "    writer.writerows(data)\n",
    "\n",
    "    print(f'Wrote file: {filepath}')"
   ]
  },
  {
   "cell_type": "code",
   "execution_count": null,
   "id": "8ab2315d-a6d8-4df2-beae-663bca5bfa82",
   "metadata": {},
   "outputs": [],
   "source": []
  }
 ],
 "metadata": {
  "kernelspec": {
   "display_name": "Python 3 (ipykernel)",
   "language": "python",
   "name": "python3"
  },
  "language_info": {
   "codemirror_mode": {
    "name": "ipython",
    "version": 3
   },
   "file_extension": ".py",
   "mimetype": "text/x-python",
   "name": "python",
   "nbconvert_exporter": "python",
   "pygments_lexer": "ipython3",
   "version": "3.11.5"
  }
 },
 "nbformat": 4,
 "nbformat_minor": 5
}
