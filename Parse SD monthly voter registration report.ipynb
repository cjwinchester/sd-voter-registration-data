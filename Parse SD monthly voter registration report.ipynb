{
 "cells": [
  {
   "cell_type": "markdown",
   "id": "6507088a-306a-47d1-97f7-57f3d07ad247",
   "metadata": {},
   "source": [
    "# Parse SD monthly voter registration report\n",
    "\n",
    "Uses:\n",
    "- `requests` to get the PDF from [the Secretary of State's website](https://sdsos.gov/elections-voting/upcoming-elections/voter-registration-totals/voter-registration-by-county.aspx)\n",
    "- `pdfplumber` to parse and validate the data"
   ]
  },
  {
   "cell_type": "code",
   "execution_count": 1,
   "id": "b2b53d3d-b352-40e3-9e9f-b8af14d72735",
   "metadata": {},
   "outputs": [],
   "source": [
    "from io import BytesIO\n",
    "from datetime import datetime\n",
    "import csv\n",
    "\n",
    "import requests\n",
    "import pdfplumber"
   ]
  },
  {
   "cell_type": "code",
   "execution_count": 2,
   "id": "3c20d214-6797-4301-bdc4-037cff26fb60",
   "metadata": {},
   "outputs": [],
   "source": [
    "url = 'https://sdsos.gov/elections-voting/assets/StatewideVoterRegistrationTotals/StatewideVotersByCounty_10.1.2024.pdf'\n",
    "req = requests.get(url)"
   ]
  },
  {
   "cell_type": "code",
   "execution_count": 3,
   "id": "be80d888-da26-44bb-baa4-226bfc0314d1",
   "metadata": {},
   "outputs": [],
   "source": [
    "pdf = pdfplumber.open(BytesIO(req.content))"
   ]
  },
  {
   "cell_type": "code",
   "execution_count": 4,
   "id": "75b29825-8e5d-4a99-9bc4-5d5eb05a678b",
   "metadata": {},
   "outputs": [],
   "source": [
    "# assumes a 2-page PDF with a table spanning both pages\n",
    "if len(pdf.pages) != 2:\n",
    "    raise Exception(f'Report page count is {len(pdf.pages)}, not 2 -- check it out: {url}')"
   ]
  },
  {
   "cell_type": "code",
   "execution_count": 5,
   "id": "00eae6d5-a16b-4d97-94aa-1a6d632b2eb7",
   "metadata": {},
   "outputs": [],
   "source": [
    "lines = pdf.pages[0].extract_table() + pdf.pages[1].extract_table()\n",
    "\n",
    "# guarding against some PDFs parsed with an extra column\n",
    "lines = [x[:-1] if not x[-1] else x for x in lines]"
   ]
  },
  {
   "cell_type": "code",
   "execution_count": 6,
   "id": "fcabf216-1de9-4626-8ce4-395e59da2bc7",
   "metadata": {
    "scrolled": true
   },
   "outputs": [
    {
     "data": {
      "text/plain": [
       "[['Statewide Report by County - October 1, 2024',\n",
       "  None,\n",
       "  None,\n",
       "  None,\n",
       "  None,\n",
       "  None,\n",
       "  None,\n",
       "  None,\n",
       "  None],\n",
       " ['County',\n",
       "  'Democratic',\n",
       "  'Libertarian',\n",
       "  'Republican',\n",
       "  'Independent',\n",
       "  'OTH',\n",
       "  'No Party\\nAffiliation',\n",
       "  'No Labels',\n",
       "  'Inactive',\n",
       "  'Total Active'],\n",
       " ['Aurora', '520', '2', '972', '224', '2', '97', '', '110', '1817'],\n",
       " ['Beadle',\n",
       "  '2,502',\n",
       "  '26',\n",
       "  '5,034',\n",
       "  '1,381',\n",
       "  '41',\n",
       "  '1,108',\n",
       "  '1',\n",
       "  '799',\n",
       "  '10093'],\n",
       " ['Bennett', '690', '6', '721', '209', '2', '197', '', '193', '1825'],\n",
       " ['Bon Homme', '886', '13', '2,354', '480', '', '221', '', '295', '3954'],\n",
       " ['Brookings',\n",
       "  '5,038',\n",
       "  '105',\n",
       "  '9,780',\n",
       "  '3,610',\n",
       "  '21',\n",
       "  '2,703',\n",
       "  '1',\n",
       "  '1610',\n",
       "  '21258'],\n",
       " ['Brown',\n",
       "  '7,278',\n",
       "  '95',\n",
       "  '12,711',\n",
       "  '3,581',\n",
       "  '11',\n",
       "  '1,884',\n",
       "  '1',\n",
       "  '1140',\n",
       "  '25561'],\n",
       " ['Brule', '906', '14', '1,725', '465', '4', '213', '', '175', '3327'],\n",
       " ['Buffalo', '526', '2', '147', '68', '4', '88', '', '126', '835'],\n",
       " ['Butte', '773', '56', '4,524', '880', '19', '616', '', '1378', '6868'],\n",
       " ['Campbell', '102', '1', '912', '77', '', '40', '', '74', '1132'],\n",
       " ['Charles Mix', '1,728', '9', '2,705', '569', '', '342', '', '463', '5353'],\n",
       " ['Clark', '543', '4', '1,627', '264', '1', '154', '', '144', '2593'],\n",
       " ['Clay', '2,853', '36', '2,945', '1,396', '10', '1,078', '2', '1237', '8320'],\n",
       " ['Codington',\n",
       "  '3,845',\n",
       "  '61',\n",
       "  '10,280',\n",
       "  '2,584',\n",
       "  '28',\n",
       "  '1,789',\n",
       "  '',\n",
       "  '1660',\n",
       "  '18587'],\n",
       " ['Corson', '960', '5', '739', '275', '2', '278', '', '236', '2259'],\n",
       " ['Custer', '1,055', '35', '5,062', '1,106', '22', '634', '1', '999', '7915'],\n",
       " ['Davison',\n",
       "  '2,757',\n",
       "  '29',\n",
       "  '6,763',\n",
       "  '1,884',\n",
       "  '37',\n",
       "  '1,448',\n",
       "  '3',\n",
       "  '1302',\n",
       "  '12921'],\n",
       " ['Day', '1,268', '11', '1,879', '584', '', '154', '', '231', '3896'],\n",
       " ['Deuel', '597', '10', '1,729', '487', '', '264', '', '127', '3087'],\n",
       " ['Dewey', '1,760', '3', '765', '416', '', '362', '', '245', '3306'],\n",
       " ['Douglas', '205', '1', '1,650', '141', '', '91', '', '116', '2088'],\n",
       " ['Edmunds', '523', '7', '1,766', '252', '2', '163', '', '144', '2713'],\n",
       " ['Fall River', '898', '41', '3,904', '907', '2', '624', '1', '411', '6377'],\n",
       " ['Faulk', '200', '1', '1,116', '215', '', '35', '', '62', '1567'],\n",
       " ['Grant', '1,063', '18', '2,685', '702', '11', '334', '', '344', '4813'],\n",
       " ['Gregory', '628', '4', '1,820', '331', '', '77', '', '156', '2860'],\n",
       " ['Haakon', '120', '2', '1,159', '86', '2', '29', '', '64', '1398'],\n",
       " ['Hamlin', '540', '7', '3,039', '368', '', '249', '', '224', '4203'],\n",
       " ['Hand', '408', '7', '1,643', '187', '4', '49', '', '99', '2298'],\n",
       " ['Hanson', '606', '6', '1,857', '495', '6', '362', '', '492', '3332'],\n",
       " ['Harding', '64', '6', '830', '74', '1', '41', '', '52', '1016'],\n",
       " ['Hughes', '2,129', '45', '7,302', '1,391', '17', '882', '', '1064', '11766'],\n",
       " ['Hutchinson', '722', '14', '3,424', '532', '8', '322', '', '218', '5022'],\n",
       " ['Hyde', '153', '1', '648', '94', '', '25', '1', '43', '922'],\n",
       " ['Jackson', '584', '8', '901', '164', '1', '162', '', '135', '1820'],\n",
       " ['Jerauld', '335', '5', '702', '131', '1', '64', '', '70', '1238'],\n",
       " ['Jones', '62', '1', '519', '59', '', '27', '1', '53', '669'],\n",
       " ['Kingsbury', '675', '8', '2,294', '392', '2', '306', '', '288', '3677'],\n",
       " ['Lake', '1,894', '25', '4,267', '941', '4', '577', '2', '2154', '7710'],\n",
       " ['Lawrence',\n",
       "  '3,899',\n",
       "  '171',\n",
       "  '12,056',\n",
       "  '3,223',\n",
       "  '45',\n",
       "  '2,508',\n",
       "  '4',\n",
       "  '2419',\n",
       "  '21906'],\n",
       " ['Lincoln',\n",
       "  '10,002',\n",
       "  '231',\n",
       "  '24,886',\n",
       "  '7,663',\n",
       "  '81',\n",
       "  '5,036',\n",
       "  '6',\n",
       "  '5086',\n",
       "  '47905'],\n",
       " ['Lyman', '658', '5', '1,156', '216', '1', '150', '', '109', '2186'],\n",
       " ['Marshall', '964', '2', '1,281', '381', '2', '169', '', '170', '2799'],\n",
       " ['McCook', '799', '8', '2,340', '513', '3', '267', '', '152', '3930'],\n",
       " ['McPherson', '191', '8', '1,326', '133', '', '66', '', '177', '1724'],\n",
       " ['Meade',\n",
       "  '2,781',\n",
       "  '155',\n",
       "  '12,635',\n",
       "  '2,814',\n",
       "  '20',\n",
       "  '2,015',\n",
       "  '1',\n",
       "  '1669',\n",
       "  '20421'],\n",
       " ['Mellette', '404', '2', '502', '184', '', '59', '', '65', '1151'],\n",
       " ['Miner', '430', '3', '828', '229', '', '103', '', '83', '1593'],\n",
       " ['Minnehaha',\n",
       "  '35,790',\n",
       "  '733',\n",
       "  '57,807',\n",
       "  '22,393',\n",
       "  '256',\n",
       "  '17,932',\n",
       "  '7',\n",
       "  '17999',\n",
       "  '134918'],\n",
       " ['Moody', '1,301', '15', '1,911', '687', '4', '392', '1', '212', '4311'],\n",
       " ['Oglala Lakota',\n",
       "  '5,197',\n",
       "  '19',\n",
       "  '589',\n",
       "  '980',\n",
       "  '1',\n",
       "  '1,202',\n",
       "  '',\n",
       "  '657',\n",
       "  '7988'],\n",
       " ['Pennington',\n",
       "  '17,797',\n",
       "  '667',\n",
       "  '45,868',\n",
       "  '13,013',\n",
       "  '209',\n",
       "  '11,659',\n",
       "  '13',\n",
       "  '10065',\n",
       "  '89226'],\n",
       " ['Perkins', '259', '4', '1,545', '195', '4', '158', '', '179', '2165'],\n",
       " ['Potter', '184', '1', '1,347', '108', '6', '41', '1', '147', '1688'],\n",
       " ['Roberts', '2,371', '10', '2,215', '935', '19', '579', '', '505', '6129'],\n",
       " ['Sanborn', '355', '7', '983', '160', '', '128', '1', '64', '1634'],\n",
       " ['Spink', '1,001', '11', '2,524', '444', '3', '202', '', '214', '4185'],\n",
       " ['Stanley', '331', '7', '1,543', '191', '', '106', '', '205', '2178'],\n",
       " ['Sully', '164', '5', '822', '108', '', '37', '', '68', '1136'],\n",
       " ['Todd', '2,688', '7', '669', '578', '6', '530', '', '779', '4478'],\n",
       " ['Tripp', '569', '8', '2,420', '348', '7', '216', '', '387', '3568'],\n",
       " ['Turner', '1,125', '15', '3,595', '898', '', '354', '', '246', '5987'],\n",
       " ['Union',\n",
       "  '2,307',\n",
       "  '46',\n",
       "  '6,488',\n",
       "  '2,203',\n",
       "  '9',\n",
       "  '1,443',\n",
       "  '1',\n",
       "  '2222',\n",
       "  '12497'],\n",
       " ['Walworth', '580', '8', '2,438', '333', '11', '243', '', '477', '3613'],\n",
       " ['Yankton',\n",
       "  '3,475',\n",
       "  '61',\n",
       "  '7,380',\n",
       "  '2,543',\n",
       "  '14',\n",
       "  '1,280',\n",
       "  '',\n",
       "  '1608',\n",
       "  '14753'],\n",
       " ['Ziebach', '753', '5', '428', '171', '', '234', '', '96', '1591'],\n",
       " ['Total',\n",
       "  '144,771',\n",
       "  '2,944',\n",
       "  '312,482',\n",
       "  '89,646',\n",
       "  '966',\n",
       "  '65,198',\n",
       "  '49',\n",
       "  '64,793',\n",
       "  '616,056'],\n",
       " [\"Independent (IND) / No Party Affiliation (NPA) – South Dakota does not have an Independent Party. If a person completes a registration card to change that person's name,\\naddress, phone number, or email address, and leaves the field for party affiliation blank, the county auditor must list the person's party affiliation as the most recent party affiliation\\nregistered for that person. If a person completes a registration card to register to vote for the first time in the state and leaves the field for party affiliation blank, the county auditor must\\nregister that person's party affiliation as no party affiliation.\",\n",
       "  None,\n",
       "  None,\n",
       "  None,\n",
       "  None,\n",
       "  None,\n",
       "  None,\n",
       "  None,\n",
       "  None],\n",
       " ['SDCL 12-1-3 (22) and SDCL 12-4-5',\n",
       "  None,\n",
       "  None,\n",
       "  None,\n",
       "  None,\n",
       "  None,\n",
       "  None,\n",
       "  None,\n",
       "  None],\n",
       " ['OTHER – This category is for voters who write any other political party on their voter registration form that is not currently a recognized political party in South Dakota.',\n",
       "  None,\n",
       "  None,\n",
       "  None,\n",
       "  None,\n",
       "  None,\n",
       "  None,\n",
       "  None,\n",
       "  None],\n",
       " ['NOTE - The South Dakota Democratic Party has opened their primary election up for all voters registered as independent/no party affiliation to vote in their primary. Voters registered\\nin the “other” category are not allowed to vote in the SD Democratic Party primary.',\n",
       "  None,\n",
       "  None,\n",
       "  None,\n",
       "  None,\n",
       "  None,\n",
       "  None,\n",
       "  None,\n",
       "  None],\n",
       " ['The Libertarian Party became a recognized party on June 17, 2016.',\n",
       "  None,\n",
       "  None,\n",
       "  None,\n",
       "  None,\n",
       "  None,\n",
       "  None,\n",
       "  None,\n",
       "  None],\n",
       " ['The Constitution Party became a recognized party on March 31, 2016. By statutes SDCL 12-5-1.5 and 12-1-3, the Constitution Party lost party status on November 14, 2018. The No\\nLabels Party became a recognized party on August 4, 2023.',\n",
       "  None,\n",
       "  None,\n",
       "  None,\n",
       "  None,\n",
       "  None,\n",
       "  None,\n",
       "  None,\n",
       "  None]]"
      ]
     },
     "execution_count": 6,
     "metadata": {},
     "output_type": "execute_result"
    }
   ],
   "source": [
    "lines"
   ]
  },
  {
   "cell_type": "code",
   "execution_count": 7,
   "id": "e6cd53a9-2f58-402a-9b1a-5e5c9b3046dd",
   "metadata": {},
   "outputs": [],
   "source": [
    "# report date is in the first line\n",
    "report_date = lines.pop(0)"
   ]
  },
  {
   "cell_type": "code",
   "execution_count": 8,
   "id": "9b5d3f66-568d-4d26-a0f4-d8600ae0af9e",
   "metadata": {},
   "outputs": [
    {
     "name": "stdout",
     "output_type": "stream",
     "text": [
      "2024-10-01\n"
     ]
    }
   ],
   "source": [
    "report_date = report_date[0].split('-')[-1].strip()\n",
    "report_date = datetime.strptime(report_date, '%B %d, %Y').date().isoformat()\n",
    "\n",
    "print(report_date)"
   ]
  },
  {
   "cell_type": "code",
   "execution_count": 9,
   "id": "2e5d21b2-be5d-4d9e-998c-d01c4df2af11",
   "metadata": {},
   "outputs": [],
   "source": [
    "# standardizing column names\n",
    "column_fixes = {\n",
    "    'oth': 'other',\n",
    "    'no party\\naffiliation': 'npa',\n",
    "    'no labels': 'no_labels',\n",
    "    'npa/ind': 'npa_ind'\n",
    "}"
   ]
  },
  {
   "cell_type": "code",
   "execution_count": 10,
   "id": "2be7ac8a-fe25-403d-a49b-9bd91ff4639b",
   "metadata": {},
   "outputs": [],
   "source": [
    "# headers are in the first line of the data table\n",
    "headers = lines.pop(0)\n",
    "headers = [column_fixes.get(x.lower(), x.lower()) for x in headers]"
   ]
  },
  {
   "cell_type": "code",
   "execution_count": 11,
   "id": "b8f74e2e-38b0-46d3-9de5-fa9d344a43d7",
   "metadata": {},
   "outputs": [
    {
     "data": {
      "text/plain": [
       "['county',\n",
       " 'democratic',\n",
       " 'libertarian',\n",
       " 'republican',\n",
       " 'independent',\n",
       " 'other',\n",
       " 'npa',\n",
       " 'no_labels',\n",
       " 'inactive',\n",
       " 'total active']"
      ]
     },
     "execution_count": 11,
     "metadata": {},
     "output_type": "execute_result"
    }
   ],
   "source": [
    "headers"
   ]
  },
  {
   "cell_type": "code",
   "execution_count": 12,
   "id": "87b4e954-d9ec-49b8-b6e3-fc53040bce60",
   "metadata": {
    "scrolled": true
   },
   "outputs": [],
   "source": [
    "data = []\n",
    "\n",
    "# loop over the remaining lines\n",
    "for line in lines:\n",
    "\n",
    "    first_cell = line[0].lower()\n",
    "\n",
    "    # skip lines if repeated headers\n",
    "    if 'statewide' in first_cell or 'county' in first_cell:\n",
    "        continue\n",
    "\n",
    "    # the 'Total' line in the table means we're done\n",
    "    if 'total' in first_cell:\n",
    "        break\n",
    "\n",
    "    # check that the number of values matches the number of headers\n",
    "    assert(len(line) == len(headers))\n",
    "\n",
    "    # zip it up into a dict\n",
    "    county_data = dict(zip(headers, line))\n",
    "\n",
    "    # delete the aggregate value totaling everything up\n",
    "    del county_data['total active']\n",
    "\n",
    "    # cast number strings to integers\n",
    "    for key in county_data:\n",
    "        if key == 'county' or not county_data[key]:\n",
    "            continue\n",
    "\n",
    "        county_data[key] = int(county_data[key].replace(',', ''))\n",
    "\n",
    "    # add the report date\n",
    "    county_data['date'] = report_date\n",
    "    data.append(county_data)"
   ]
  },
  {
   "cell_type": "code",
   "execution_count": 13,
   "id": "6571d1b4-ba88-4b3b-9fce-0f9cdd6721d1",
   "metadata": {},
   "outputs": [],
   "source": [
    "# doublecheck: 66 counties in SD\n",
    "assert(len(data) == 66)"
   ]
  },
  {
   "cell_type": "code",
   "execution_count": 14,
   "id": "25fe47d7-bd47-46f5-b4bf-b2972e761421",
   "metadata": {},
   "outputs": [
    {
     "data": {
      "text/plain": [
       "{'county': 'Aurora',\n",
       " 'democratic': 520,\n",
       " 'libertarian': 2,\n",
       " 'republican': 972,\n",
       " 'independent': 224,\n",
       " 'other': 2,\n",
       " 'npa': 97,\n",
       " 'no_labels': '',\n",
       " 'inactive': 110,\n",
       " 'date': '2024-10-01'}"
      ]
     },
     "execution_count": 14,
     "metadata": {},
     "output_type": "execute_result"
    }
   ],
   "source": [
    "data[0]"
   ]
  },
  {
   "cell_type": "code",
   "execution_count": 15,
   "id": "1cb251c3-ef9f-4898-9bc7-02b3230b52b9",
   "metadata": {},
   "outputs": [],
   "source": [
    "# shift 'date' to the beginning of headers list for the output CSV\n",
    "csv_headers = list(data[0].keys())\n",
    "csv_headers = csv_headers[-1:] + csv_headers[:-1]"
   ]
  },
  {
   "cell_type": "code",
   "execution_count": 16,
   "id": "1ddeeb67-a213-45bc-bffe-10b25ebad375",
   "metadata": {},
   "outputs": [
    {
     "name": "stdout",
     "output_type": "stream",
     "text": [
      "Wrote file: data/2024-10-01.csv\n"
     ]
    }
   ],
   "source": [
    "# write to file\n",
    "filepath = f'data/{report_date}.csv'\n",
    "\n",
    "with open(filepath, 'w') as outfile:\n",
    "    writer = csv.DictWriter(\n",
    "        outfile,\n",
    "        fieldnames=csv_headers\n",
    "    )\n",
    "\n",
    "    writer.writeheader()\n",
    "    writer.writerows(data)\n",
    "\n",
    "    print(f'Wrote file: {filepath}')"
   ]
  },
  {
   "cell_type": "code",
   "execution_count": 17,
   "id": "d7b2a96f-de03-4cb9-b420-620aea8e3f46",
   "metadata": {},
   "outputs": [
    {
     "name": "stdout",
     "output_type": "stream",
     "text": [
      "Party list: americans_elect, constitution, democratic, inactive, independent, libertarian, no_labels, npa, npa_ind, npa_ind_oth, other, reform, republican\n",
      "--------------------\n",
      "Wrote sd-voter-registration-data.csv\n",
      "Wrote sd-voter-registration-data-simplified.csv\n",
      "Wrote README.md\n"
     ]
    }
   ],
   "source": [
    "%run build_files.py"
   ]
  }
 ],
 "metadata": {
  "kernelspec": {
   "display_name": "Python 3 (ipykernel)",
   "language": "python",
   "name": "python3"
  },
  "language_info": {
   "codemirror_mode": {
    "name": "ipython",
    "version": 3
   },
   "file_extension": ".py",
   "mimetype": "text/x-python",
   "name": "python",
   "nbconvert_exporter": "python",
   "pygments_lexer": "ipython3",
   "version": "3.12.7"
  }
 },
 "nbformat": 4,
 "nbformat_minor": 5
}
